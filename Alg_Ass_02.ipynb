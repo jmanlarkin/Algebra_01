{
 "cells": [
  {
   "cell_type": "code",
   "execution_count": 13,
   "id": "c3df16ca-b454-4feb-a583-066b9a80bf63",
   "metadata": {},
   "outputs": [],
   "source": [
    "import numpy as np\n",
    "from english_words import english_words_set"
   ]
  },
  {
   "cell_type": "markdown",
   "id": "eeab8885-2241-487a-9005-579fecdedb61",
   "metadata": {},
   "source": [
    "First, we want to create a list of all 3 letter combinations which are actually english words. This is called the \"master_list.\""
   ]
  },
  {
   "cell_type": "code",
   "execution_count": 75,
   "id": "1223eadf-1260-4eb1-a163-00f1070b67ad",
   "metadata": {},
   "outputs": [],
   "source": [
    "alphabet = list(map(chr, range(97, 123)))\n",
    "master_list = []\n",
    "\n",
    "for i in range(len(alphabet)):\n",
    "    for j in range(len(alphabet)):\n",
    "        for k in range(len(alphabet)):\n",
    "            word = alphabet[i] + alphabet[j] + alphabet[k]\n",
    "            master_list.append(word)\n",
    "            \n",
    "truth_table = []\n",
    "for i in range(len(master_list)):\n",
    "    truth_table.append(master_list[i] in english_words_set)\n",
    "    \n",
    "master_list = np.asarray(master_list)[truth_table]\n",
    "master_list = list(master_list)"
   ]
  },
  {
   "cell_type": "markdown",
   "id": "a3934007-bf8a-4e6c-b37c-2a51a07a2169",
   "metadata": {},
   "source": [
    "Then, for each word in the \"master_list,\" we check the first and last letter against each other word in the list (including itself). If it finds any matches, they go into a storage list. After checking all available words, if the number of elements is not exactly 5, the storage list is discarded; If the number of elements is 5, the list is appended to the father list, called the \"equivalence_class.\" After each loop, each element of the given equivalence class is removed from the master list (in order to save computation time). "
   ]
  },
  {
   "cell_type": "code",
   "execution_count": 76,
   "id": "21bf6e42-795f-4d37-8179-29f562a2f803",
   "metadata": {},
   "outputs": [],
   "source": [
    "equivalence_class = []\n",
    "for i in range(len(master_list)):\n",
    "    if len(master_list) < 5:\n",
    "        break\n",
    "    word = master_list[0]\n",
    "    word_breakdown = [*word]\n",
    "    word_one = word_breakdown[0]\n",
    "    word_last = word_breakdown[-1]\n",
    "    collection = []\n",
    "    for j in range(len(master_list)):\n",
    "        comparison = master_list[j]\n",
    "        comparison_breakdown = [*comparison]\n",
    "        comparison_one = comparison_breakdown[0]\n",
    "        comparison_last = comparison_breakdown[-1]\n",
    "        if (comparison_one == word_one) and (comparison_last == word_last):\n",
    "            collection.append(comparison)\n",
    "        else:\n",
    "            continue\n",
    "    if len(collection) == 5:\n",
    "        equivalence_class.append(collection)\n",
    "    for k in range(len(collection)):\n",
    "        master_list.remove(collection[k])"
   ]
  },
  {
   "cell_type": "markdown",
   "id": "0431050f-be97-4ac8-b5d2-486ef5a774fc",
   "metadata": {},
   "source": [
    "And thus, we find the following 5 element equivalence classes:"
   ]
  },
  {
   "cell_type": "code",
   "execution_count": 79,
   "id": "70fbd457-e14d-4c55-9bad-28459a8d3c9b",
   "metadata": {},
   "outputs": [
    {
     "name": "stdout",
     "output_type": "stream",
     "text": [
      "['act', 'aft', 'ant', 'apt', 'art'] ['bag', 'beg', 'big', 'bog', 'bug'] ['eke', 'ere', 'eve', 'ewe', 'eye'] ['pap', 'pep', 'pip', 'pop', 'pup'] ['pat', 'pet', 'pit', 'pot', 'put'] ['tan', 'ten', 'tin', 'ton', 'tun']\n"
     ]
    }
   ],
   "source": [
    "print(*equivalence_class)"
   ]
  },
  {
   "cell_type": "code",
   "execution_count": null,
   "id": "0b52ad2c-17a1-4f47-b7fd-62bd992388b2",
   "metadata": {},
   "outputs": [],
   "source": []
  }
 ],
 "metadata": {
  "kernelspec": {
   "display_name": "Python 3 (ipykernel)",
   "language": "python",
   "name": "python3"
  },
  "language_info": {
   "codemirror_mode": {
    "name": "ipython",
    "version": 3
   },
   "file_extension": ".py",
   "mimetype": "text/x-python",
   "name": "python",
   "nbconvert_exporter": "python",
   "pygments_lexer": "ipython3",
   "version": "3.9.7"
  }
 },
 "nbformat": 4,
 "nbformat_minor": 5
}
